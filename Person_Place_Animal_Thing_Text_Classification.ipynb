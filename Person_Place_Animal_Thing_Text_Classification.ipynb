{
  "cells": [
    {
      "cell_type": "markdown",
      "metadata": {
        "id": "view-in-github",
        "colab_type": "text"
      },
      "source": [
        "<a href=\"https://colab.research.google.com/github/aiml-aa/ML_Models/blob/main/Person_Place_Animal_Thing_Text_Classification.ipynb\" target=\"_parent\"><img src=\"https://colab.research.google.com/assets/colab-badge.svg\" alt=\"Open In Colab\"/></a>"
      ]
    },
    {
      "cell_type": "code",
      "execution_count": 1,
      "metadata": {
        "id": "nskwoQacHYzG"
      },
      "outputs": [],
      "source": [
        "import os\n",
        "\n",
        "import pandas as pd"
      ]
    },
    {
      "cell_type": "markdown",
      "metadata": {
        "id": "0acmWRU3HYzJ"
      },
      "source": [
        "## Import the data csv file you made\n",
        "\n",
        "import data"
      ]
    },
    {
      "cell_type": "code",
      "execution_count": 2,
      "metadata": {
        "id": "YKDmHE2IHYzM"
      },
      "outputs": [],
      "source": [
        "DATADIR = './data/'\n",
        "\n",
        "if not os.path.exists(DATADIR):\n",
        "    os.makedirs(DATADIR)"
      ]
    },
    {
      "cell_type": "code",
      "execution_count": 4,
      "metadata": {
        "id": "5c68P9BsHYzM"
      },
      "outputs": [],
      "source": [
        "FULL_DATASET_NAME = 'terms_samples.csv'\n",
        "FULL_DATASET_PATH = os.path.join(DATADIR, FULL_DATASET_NAME)\n",
        "\n",
        "# Read the CSV file\n",
        "data = pd.read_csv('Planning_ML Models_Projects_Model_1_thing.csv')\n",
        "\n",
        "# Shuffle the data\n",
        "shuffled_data = data.sample(n=len(data))\n",
        "\n",
        "# Save the data\n",
        "shuffled_data.to_csv(\n",
        "    FULL_DATASET_PATH, header=False, index=False, encoding='utf-8')\n"
      ]
    },
    {
      "cell_type": "code",
      "execution_count": 5,
      "metadata": {
        "id": "egZXKuinHYzN",
        "colab": {
          "base_uri": "https://localhost:8080/"
        },
        "outputId": "aaa4a5e9-7413-4667-89cd-5ec97a8e7f05"
      },
      "outputs": [
        {
          "output_type": "stream",
          "name": "stdout",
          "text": [
            "2.12.0\n"
          ]
        }
      ],
      "source": [
        "import os\n",
        "import shutil\n",
        "\n",
        "import pandas as pd\n",
        "import tensorflow as tf\n",
        "from tensorflow.keras.callbacks import TensorBoard, EarlyStopping\n",
        "from tensorflow.keras.layers import (\n",
        "    Embedding,\n",
        "    Flatten,\n",
        "    GRU,\n",
        "    Conv1D,\n",
        "    Lambda,\n",
        "    Dense,\n",
        ")\n",
        "from tensorflow.keras.models import Sequential\n",
        "from tensorflow.keras.preprocessing.sequence import pad_sequences\n",
        "from tensorflow.keras.preprocessing.text import Tokenizer\n",
        "from tensorflow.keras.utils import to_categorical\n",
        "\n",
        "\n",
        "print(tf.__version__)"
      ]
    },
    {
      "cell_type": "code",
      "execution_count": 6,
      "metadata": {
        "id": "hmJZwyBrHYzN"
      },
      "outputs": [],
      "source": [
        "%matplotlib inline"
      ]
    },
    {
      "cell_type": "markdown",
      "metadata": {
        "id": "TsvLFQnWHYzN"
      },
      "source": [
        "Let's start by specifying where the information about the trained models will be saved as well as where our dataset is located:"
      ]
    },
    {
      "cell_type": "code",
      "execution_count": 7,
      "metadata": {
        "id": "vzL0ixDlHYzN"
      },
      "outputs": [],
      "source": [
        "LOGDIR = \"./text_models\"\n",
        "DATA_DIR = \"./data\""
      ]
    },
    {
      "cell_type": "markdown",
      "metadata": {
        "id": "RB2S2GA8HYzO"
      },
      "source": [
        "## Loading the dataset"
      ]
    },
    {
      "cell_type": "markdown",
      "metadata": {
        "id": "ATx6cIfKHYzO"
      },
      "source": [
        "Our dataset consists of titles of articles along with the label indicating from which source these articles have been taken from (GitHub, Tech-Crunch, or the New-York Times)."
      ]
    },
    {
      "cell_type": "code",
      "execution_count": 8,
      "metadata": {
        "id": "nTFcUf6gHYzO",
        "colab": {
          "base_uri": "https://localhost:8080/",
          "height": 206
        },
        "outputId": "4b62a2e2-74cb-4fc3-e847-633e56494cb4"
      },
      "outputs": [
        {
          "output_type": "execute_result",
          "data": {
            "text/plain": [
              "                        term categories\n",
              "0         Lakeshia Terminesi     person\n",
              "1                   Corgipoo     animal\n",
              "2             Gracie Sambora     person\n",
              "3                     Diaper      thing\n",
              "4  North American Black Bear     animal"
            ],
            "text/html": [
              "\n",
              "  <div id=\"df-b7678c3f-8778-49b7-9de4-9f23108b4fd2\">\n",
              "    <div class=\"colab-df-container\">\n",
              "      <div>\n",
              "<style scoped>\n",
              "    .dataframe tbody tr th:only-of-type {\n",
              "        vertical-align: middle;\n",
              "    }\n",
              "\n",
              "    .dataframe tbody tr th {\n",
              "        vertical-align: top;\n",
              "    }\n",
              "\n",
              "    .dataframe thead th {\n",
              "        text-align: right;\n",
              "    }\n",
              "</style>\n",
              "<table border=\"1\" class=\"dataframe\">\n",
              "  <thead>\n",
              "    <tr style=\"text-align: right;\">\n",
              "      <th></th>\n",
              "      <th>term</th>\n",
              "      <th>categories</th>\n",
              "    </tr>\n",
              "  </thead>\n",
              "  <tbody>\n",
              "    <tr>\n",
              "      <th>0</th>\n",
              "      <td>Lakeshia Terminesi</td>\n",
              "      <td>person</td>\n",
              "    </tr>\n",
              "    <tr>\n",
              "      <th>1</th>\n",
              "      <td>Corgipoo</td>\n",
              "      <td>animal</td>\n",
              "    </tr>\n",
              "    <tr>\n",
              "      <th>2</th>\n",
              "      <td>Gracie Sambora</td>\n",
              "      <td>person</td>\n",
              "    </tr>\n",
              "    <tr>\n",
              "      <th>3</th>\n",
              "      <td>Diaper</td>\n",
              "      <td>thing</td>\n",
              "    </tr>\n",
              "    <tr>\n",
              "      <th>4</th>\n",
              "      <td>North American Black Bear</td>\n",
              "      <td>animal</td>\n",
              "    </tr>\n",
              "  </tbody>\n",
              "</table>\n",
              "</div>\n",
              "      <button class=\"colab-df-convert\" onclick=\"convertToInteractive('df-b7678c3f-8778-49b7-9de4-9f23108b4fd2')\"\n",
              "              title=\"Convert this dataframe to an interactive table.\"\n",
              "              style=\"display:none;\">\n",
              "        \n",
              "  <svg xmlns=\"http://www.w3.org/2000/svg\" height=\"24px\"viewBox=\"0 0 24 24\"\n",
              "       width=\"24px\">\n",
              "    <path d=\"M0 0h24v24H0V0z\" fill=\"none\"/>\n",
              "    <path d=\"M18.56 5.44l.94 2.06.94-2.06 2.06-.94-2.06-.94-.94-2.06-.94 2.06-2.06.94zm-11 1L8.5 8.5l.94-2.06 2.06-.94-2.06-.94L8.5 2.5l-.94 2.06-2.06.94zm10 10l.94 2.06.94-2.06 2.06-.94-2.06-.94-.94-2.06-.94 2.06-2.06.94z\"/><path d=\"M17.41 7.96l-1.37-1.37c-.4-.4-.92-.59-1.43-.59-.52 0-1.04.2-1.43.59L10.3 9.45l-7.72 7.72c-.78.78-.78 2.05 0 2.83L4 21.41c.39.39.9.59 1.41.59.51 0 1.02-.2 1.41-.59l7.78-7.78 2.81-2.81c.8-.78.8-2.07 0-2.86zM5.41 20L4 18.59l7.72-7.72 1.47 1.35L5.41 20z\"/>\n",
              "  </svg>\n",
              "      </button>\n",
              "      \n",
              "  <style>\n",
              "    .colab-df-container {\n",
              "      display:flex;\n",
              "      flex-wrap:wrap;\n",
              "      gap: 12px;\n",
              "    }\n",
              "\n",
              "    .colab-df-convert {\n",
              "      background-color: #E8F0FE;\n",
              "      border: none;\n",
              "      border-radius: 50%;\n",
              "      cursor: pointer;\n",
              "      display: none;\n",
              "      fill: #1967D2;\n",
              "      height: 32px;\n",
              "      padding: 0 0 0 0;\n",
              "      width: 32px;\n",
              "    }\n",
              "\n",
              "    .colab-df-convert:hover {\n",
              "      background-color: #E2EBFA;\n",
              "      box-shadow: 0px 1px 2px rgba(60, 64, 67, 0.3), 0px 1px 3px 1px rgba(60, 64, 67, 0.15);\n",
              "      fill: #174EA6;\n",
              "    }\n",
              "\n",
              "    [theme=dark] .colab-df-convert {\n",
              "      background-color: #3B4455;\n",
              "      fill: #D2E3FC;\n",
              "    }\n",
              "\n",
              "    [theme=dark] .colab-df-convert:hover {\n",
              "      background-color: #434B5C;\n",
              "      box-shadow: 0px 1px 3px 1px rgba(0, 0, 0, 0.15);\n",
              "      filter: drop-shadow(0px 1px 2px rgba(0, 0, 0, 0.3));\n",
              "      fill: #FFFFFF;\n",
              "    }\n",
              "  </style>\n",
              "\n",
              "      <script>\n",
              "        const buttonEl =\n",
              "          document.querySelector('#df-b7678c3f-8778-49b7-9de4-9f23108b4fd2 button.colab-df-convert');\n",
              "        buttonEl.style.display =\n",
              "          google.colab.kernel.accessAllowed ? 'block' : 'none';\n",
              "\n",
              "        async function convertToInteractive(key) {\n",
              "          const element = document.querySelector('#df-b7678c3f-8778-49b7-9de4-9f23108b4fd2');\n",
              "          const dataTable =\n",
              "            await google.colab.kernel.invokeFunction('convertToInteractive',\n",
              "                                                     [key], {});\n",
              "          if (!dataTable) return;\n",
              "\n",
              "          const docLinkHtml = 'Like what you see? Visit the ' +\n",
              "            '<a target=\"_blank\" href=https://colab.research.google.com/notebooks/data_table.ipynb>data table notebook</a>'\n",
              "            + ' to learn more about interactive tables.';\n",
              "          element.innerHTML = '';\n",
              "          dataTable['output_type'] = 'display_data';\n",
              "          await google.colab.output.renderOutput(dataTable, element);\n",
              "          const docLink = document.createElement('div');\n",
              "          docLink.innerHTML = docLinkHtml;\n",
              "          element.appendChild(docLink);\n",
              "        }\n",
              "      </script>\n",
              "    </div>\n",
              "  </div>\n",
              "  "
            ]
          },
          "metadata": {},
          "execution_count": 8
        }
      ],
      "source": [
        "DATASET_NAME = \"terms_samples.csv\"\n",
        "TITLE_SAMPLE_PATH = os.path.join(DATA_DIR, DATASET_NAME)\n",
        "COLUMNS = ['term', 'categories']\n",
        "\n",
        "terms_df = pd.read_csv(TITLE_SAMPLE_PATH, header=None, names=COLUMNS)\n",
        "terms_df.head()"
      ]
    },
    {
      "cell_type": "markdown",
      "metadata": {
        "id": "JmGtmkSlHYzO"
      },
      "source": [
        "## Integerize the texts"
      ]
    },
    {
      "cell_type": "markdown",
      "metadata": {
        "id": "VybtDH_3HYzO"
      },
      "source": [
        "The first thing we need to do is to find how many words we have in our dataset (`VOCAB_SIZE`), how many titles we have (`DATASET_SIZE`), and what the maximum length of the titles we have (`MAX_LEN`) is. Keras offers the `Tokenizer` class in its `keras.preprocessing.text` module to help us with that:"
      ]
    },
    {
      "cell_type": "code",
      "execution_count": 9,
      "metadata": {
        "id": "gjbAZnrYHYzO"
      },
      "outputs": [],
      "source": [
        "tokenizer = Tokenizer()\n",
        "tokenizer.fit_on_texts(terms_df.term)"
      ]
    },
    {
      "cell_type": "code",
      "execution_count": 10,
      "metadata": {
        "id": "asJZQTC_HYzO",
        "colab": {
          "base_uri": "https://localhost:8080/"
        },
        "outputId": "b9148e8d-a598-4d09-a0ac-e498a92cbdcb"
      },
      "outputs": [
        {
          "output_type": "execute_result",
          "data": {
            "text/plain": [
              "[[694, 1593], [1594], [1595, 1596]]"
            ]
          },
          "metadata": {},
          "execution_count": 10
        }
      ],
      "source": [
        "integerized_terms = tokenizer.texts_to_sequences(terms_df.term)\n",
        "integerized_terms[:3]"
      ]
    },
    {
      "cell_type": "code",
      "execution_count": 11,
      "metadata": {
        "id": "eccqr60cHYzO",
        "colab": {
          "base_uri": "https://localhost:8080/"
        },
        "outputId": "e7ac01cd-f8d0-4a96-8aca-ae218dc0d6f0"
      },
      "outputs": [
        {
          "output_type": "execute_result",
          "data": {
            "text/plain": [
              "12120"
            ]
          },
          "metadata": {},
          "execution_count": 11
        }
      ],
      "source": [
        "VOCAB_SIZE = len(tokenizer.index_word)\n",
        "VOCAB_SIZE"
      ]
    },
    {
      "cell_type": "code",
      "execution_count": 12,
      "metadata": {
        "id": "UBppjDZFHYzP",
        "colab": {
          "base_uri": "https://localhost:8080/"
        },
        "outputId": "0dc3b776-8b4c-448b-96a6-3e2937d7289b"
      },
      "outputs": [
        {
          "output_type": "execute_result",
          "data": {
            "text/plain": [
              "10686"
            ]
          },
          "metadata": {},
          "execution_count": 12
        }
      ],
      "source": [
        "DATASET_SIZE = tokenizer.document_count\n",
        "DATASET_SIZE"
      ]
    },
    {
      "cell_type": "code",
      "execution_count": 13,
      "metadata": {
        "id": "R7QzbXSJHYzP",
        "colab": {
          "base_uri": "https://localhost:8080/"
        },
        "outputId": "62989125-1436-48d4-ead3-557d297b87d9"
      },
      "outputs": [
        {
          "output_type": "execute_result",
          "data": {
            "text/plain": [
              "5"
            ]
          },
          "metadata": {},
          "execution_count": 13
        }
      ],
      "source": [
        "MAX_LEN = max(len(sequence) for sequence in integerized_terms)\n",
        "MAX_LEN"
      ]
    },
    {
      "cell_type": "markdown",
      "metadata": {
        "id": "4SiGRsW_HYzP"
      },
      "source": [
        "Let's now implement a function `create_sequence` that will \n",
        "* take as input our titles as well as the maximum sentence length and \n",
        "* returns a list of the integers corresponding to our tokens padded to the sentence maximum length\n",
        "\n",
        "Keras has the helper functions `pad_sequence` for that on the top of the tokenizer methods."
      ]
    },
    {
      "cell_type": "code",
      "execution_count": 14,
      "metadata": {
        "id": "jGZQ0emMHYzP"
      },
      "outputs": [],
      "source": [
        "# TODO 1\n",
        "def create_sequences(texts, max_len=MAX_LEN):\n",
        "    sequences = tokenizer.texts_to_sequences(texts)\n",
        "    padded_sequences = pad_sequences(sequences, max_len, padding='post')\n",
        "    return padded_sequences"
      ]
    },
    {
      "cell_type": "code",
      "execution_count": 15,
      "metadata": {
        "id": "YDCH1ItaHYzP",
        "colab": {
          "base_uri": "https://localhost:8080/"
        },
        "outputId": "998e1d7f-1a3c-4955-a51d-5d430b3ac1cf"
      },
      "outputs": [
        {
          "output_type": "execute_result",
          "data": {
            "text/plain": [
              "array([[ 694, 1593,    0,    0,    0],\n",
              "       [1594,    0,    0,    0,    0],\n",
              "       [1595, 1596,    0,    0,    0]], dtype=int32)"
            ]
          },
          "metadata": {},
          "execution_count": 15
        }
      ],
      "source": [
        "sequences = create_sequences(terms_df.term[:3])\n",
        "sequences"
      ]
    },
    {
      "cell_type": "code",
      "execution_count": 17,
      "metadata": {
        "id": "dt-btOfCHYzP",
        "colab": {
          "base_uri": "https://localhost:8080/"
        },
        "outputId": "8239dfa0-b8ad-4087-e1e2-c1f97bbab7b0"
      },
      "outputs": [
        {
          "output_type": "execute_result",
          "data": {
            "text/plain": [
              "0    person\n",
              "1    animal\n",
              "2    person\n",
              "3     thing\n",
              "Name: categories, dtype: object"
            ]
          },
          "metadata": {},
          "execution_count": 17
        }
      ],
      "source": [
        "terms_df.categories[:4]"
      ]
    },
    {
      "cell_type": "markdown",
      "metadata": {
        "id": "5WyiS5qnHYzP"
      },
      "source": [
        "We now need to write a function that \n",
        "* takes a title source and\n",
        "* returns the corresponding one-hot encoded vector\n",
        "\n",
        "Keras `to_categorical` is handy for that."
      ]
    },
    {
      "cell_type": "code",
      "execution_count": 18,
      "metadata": {
        "id": "b_lXzZGNHYzQ"
      },
      "outputs": [],
      "source": [
        "CLASSES = {\n",
        "    'person': 0,\n",
        "    'place': 1,\n",
        "    'animal': 2,\n",
        "    'thing': 3\n",
        "}\n",
        "N_CLASSES = len(CLASSES)"
      ]
    },
    {
      "cell_type": "code",
      "execution_count": 19,
      "metadata": {
        "id": "6NXTdBJIHYzQ"
      },
      "outputs": [],
      "source": [
        "# TODO 2\n",
        "def encode_labels(sources):\n",
        "    classes = [CLASSES[source] for source in sources]\n",
        "    one_hots = to_categorical(classes)\n",
        "    return one_hots"
      ]
    },
    {
      "cell_type": "code",
      "execution_count": 21,
      "metadata": {
        "id": "E4b8iwabHYzQ",
        "colab": {
          "base_uri": "https://localhost:8080/"
        },
        "outputId": "ab8b80ea-5b44-451f-e438-71260e73916e"
      },
      "outputs": [
        {
          "output_type": "execute_result",
          "data": {
            "text/plain": [
              "array([[1., 0., 0., 0.],\n",
              "       [0., 0., 1., 0.],\n",
              "       [1., 0., 0., 0.],\n",
              "       [0., 0., 0., 1.]], dtype=float32)"
            ]
          },
          "metadata": {},
          "execution_count": 21
        }
      ],
      "source": [
        "encode_labels(terms_df.categories[:4])"
      ]
    },
    {
      "cell_type": "markdown",
      "metadata": {
        "id": "aJQhwQodHYzQ"
      },
      "source": [
        "## Preparing the train/test splits"
      ]
    },
    {
      "cell_type": "markdown",
      "metadata": {
        "id": "kXOB5zYnHYzQ"
      },
      "source": [
        "Let's split our data into train and test splits:"
      ]
    },
    {
      "cell_type": "code",
      "execution_count": 22,
      "metadata": {
        "id": "Js_bNJoBHYzQ"
      },
      "outputs": [],
      "source": [
        "N_TRAIN = int(DATASET_SIZE * 0.80)\n",
        "\n",
        "terms_train, categories_train = (\n",
        "    terms_df.term[:N_TRAIN], terms_df.categories[:N_TRAIN])\n",
        "\n",
        "terms_valid, categories_valid = (\n",
        "    terms_df.term[N_TRAIN:], terms_df.categories[N_TRAIN:])"
      ]
    },
    {
      "cell_type": "markdown",
      "metadata": {
        "id": "73gX-dpPHYzR"
      },
      "source": [
        "To be on the safe side, we verify that the train and test splits\n",
        "have roughly the same number of examples per classes.\n",
        "\n",
        "Since it is the case, accuracy will be a good metric to use to measure\n",
        "the performance of our models.\n"
      ]
    },
    {
      "cell_type": "code",
      "execution_count": 23,
      "metadata": {
        "id": "CmYO9jU4HYzR",
        "colab": {
          "base_uri": "https://localhost:8080/"
        },
        "outputId": "6e5cfe38-fbba-4151-ee59-825b69096c6a"
      },
      "outputs": [
        {
          "output_type": "execute_result",
          "data": {
            "text/plain": [
              "thing     2355\n",
              "animal    2242\n",
              "person    2217\n",
              "place     1734\n",
              "Name: categories, dtype: int64"
            ]
          },
          "metadata": {},
          "execution_count": 23
        }
      ],
      "source": [
        "categories_train.value_counts()"
      ]
    },
    {
      "cell_type": "code",
      "execution_count": 24,
      "metadata": {
        "id": "I_5jbYzDHYzR",
        "colab": {
          "base_uri": "https://localhost:8080/"
        },
        "outputId": "98de6c8f-8e31-4a5e-913e-0e0154819913"
      },
      "outputs": [
        {
          "output_type": "execute_result",
          "data": {
            "text/plain": [
              "thing     590\n",
              "person    571\n",
              "animal    546\n",
              "place     431\n",
              "Name: categories, dtype: int64"
            ]
          },
          "metadata": {},
          "execution_count": 24
        }
      ],
      "source": [
        "categories_valid.value_counts()"
      ]
    },
    {
      "cell_type": "markdown",
      "metadata": {
        "id": "lVUqi_deHYzR"
      },
      "source": [
        "Using `create_sequence` and `encode_labels`, we can now prepare the\n",
        "training and validation data to feed our models.\n",
        "\n",
        "The features will be\n",
        "padded list of integers and the labels will be one-hot-encoded 3D vectors."
      ]
    },
    {
      "cell_type": "code",
      "execution_count": 25,
      "metadata": {
        "id": "7lVMqKM-HYzR"
      },
      "outputs": [],
      "source": [
        "X_train, Y_train = create_sequences(terms_train), encode_labels(categories_train)\n",
        "X_valid, Y_valid = create_sequences(terms_valid), encode_labels(categories_valid)"
      ]
    },
    {
      "cell_type": "code",
      "execution_count": 26,
      "metadata": {
        "id": "T6R2-e0PHYzR",
        "colab": {
          "base_uri": "https://localhost:8080/"
        },
        "outputId": "2032c25e-12b7-44ee-c831-dcf3bd319d66"
      },
      "outputs": [
        {
          "output_type": "execute_result",
          "data": {
            "text/plain": [
              "array([[ 694, 1593,    0,    0,    0],\n",
              "       [1594,    0,    0,    0,    0],\n",
              "       [1595, 1596,    0,    0,    0]], dtype=int32)"
            ]
          },
          "metadata": {},
          "execution_count": 26
        }
      ],
      "source": [
        "X_train[:3]"
      ]
    },
    {
      "cell_type": "code",
      "execution_count": 27,
      "metadata": {
        "id": "1czPkJixHYzR",
        "colab": {
          "base_uri": "https://localhost:8080/"
        },
        "outputId": "1e052a2a-71a1-493f-c9b7-0b1b4cfbc6b9"
      },
      "outputs": [
        {
          "output_type": "execute_result",
          "data": {
            "text/plain": [
              "array([[1., 0., 0., 0.],\n",
              "       [0., 0., 1., 0.],\n",
              "       [1., 0., 0., 0.]], dtype=float32)"
            ]
          },
          "metadata": {},
          "execution_count": 27
        }
      ],
      "source": [
        "Y_train[:3]"
      ]
    },
    {
      "cell_type": "markdown",
      "metadata": {
        "id": "C0h92dpcHYzR"
      },
      "source": [
        "## Building a DNN model"
      ]
    },
    {
      "cell_type": "markdown",
      "metadata": {
        "id": "AvW-jrgNHYzR"
      },
      "source": [
        "The build_dnn_model function below returns a compiled Keras model that implements a simple embedding layer transforming the word integers into dense vectors, followed by a Dense softmax layer that returns the probabilities for each class.\n",
        "\n",
        "\n",
        "Note that we need to put a custom Keras Lambda layer in between the Embedding layer and the Dense softmax layer to do an average of the word vectors returned by the embedding layer. This is the average that's fed to the dense softmax layer. By doing so, we create a model that is simple but that loses information about the word order, creating a model that sees sentences as \"bag-of-words\"."
      ]
    },
    {
      "cell_type": "code",
      "execution_count": 28,
      "metadata": {
        "id": "KsLYUKUaHYzS"
      },
      "outputs": [],
      "source": [
        "def build_dnn_model(embed_dim):\n",
        "\n",
        "    model = Sequential([\n",
        "        Embedding(VOCAB_SIZE + 1, embed_dim, input_shape=[MAX_LEN]), # TODO 3\n",
        "        Lambda(lambda x: tf.reduce_mean(x, axis=1)), # TODO 4\n",
        "        Dense(N_CLASSES, activation='softmax') # TODO 5\n",
        "    ])\n",
        "\n",
        "    model.compile(\n",
        "        optimizer='adam',\n",
        "        loss='categorical_crossentropy',\n",
        "        metrics=['accuracy']\n",
        "    )\n",
        "    return model"
      ]
    },
    {
      "cell_type": "markdown",
      "metadata": {
        "id": "BWuXXGx8HYzS"
      },
      "source": [
        "Below we train the model on 100 epochs but adding an `EarlyStopping` callback that will stop the training as soon as the validation loss has not improved after a number of steps specified by `PATIENCE` . Note that we also give the `model.fit` method a Tensorboard callback so that we can later compare all the models using TensorBoard."
      ]
    },
    {
      "cell_type": "code",
      "execution_count": 29,
      "metadata": {
        "id": "TE8ah0aYHYzS",
        "colab": {
          "base_uri": "https://localhost:8080/",
          "height": 1000
        },
        "outputId": "51014e35-ed15-474c-fdf3-c00bb5af8f49"
      },
      "outputs": [
        {
          "output_type": "stream",
          "name": "stdout",
          "text": [
            "Epoch 1/100\n",
            "29/29 [==============================] - 1s 15ms/step - loss: 1.3823 - accuracy: 0.3012 - val_loss: 1.3780 - val_accuracy: 0.3162\n",
            "Epoch 2/100\n",
            "29/29 [==============================] - 0s 7ms/step - loss: 1.3703 - accuracy: 0.3156 - val_loss: 1.3701 - val_accuracy: 0.3120\n",
            "Epoch 3/100\n",
            "29/29 [==============================] - 0s 8ms/step - loss: 1.3580 - accuracy: 0.3287 - val_loss: 1.3623 - val_accuracy: 0.3232\n",
            "Epoch 4/100\n",
            "29/29 [==============================] - 0s 8ms/step - loss: 1.3442 - accuracy: 0.3528 - val_loss: 1.3538 - val_accuracy: 0.3471\n",
            "Epoch 5/100\n",
            "29/29 [==============================] - 0s 7ms/step - loss: 1.3282 - accuracy: 0.4002 - val_loss: 1.3444 - val_accuracy: 0.3840\n",
            "Epoch 6/100\n",
            "29/29 [==============================] - 0s 7ms/step - loss: 1.3098 - accuracy: 0.4381 - val_loss: 1.3340 - val_accuracy: 0.4036\n",
            "Epoch 7/100\n",
            "29/29 [==============================] - 0s 8ms/step - loss: 1.2891 - accuracy: 0.4545 - val_loss: 1.3226 - val_accuracy: 0.4177\n",
            "Epoch 8/100\n",
            "29/29 [==============================] - 0s 7ms/step - loss: 1.2660 - accuracy: 0.4724 - val_loss: 1.3102 - val_accuracy: 0.4359\n",
            "Epoch 9/100\n",
            "29/29 [==============================] - 0s 7ms/step - loss: 1.2409 - accuracy: 0.4803 - val_loss: 1.2974 - val_accuracy: 0.4406\n",
            "Epoch 10/100\n",
            "29/29 [==============================] - 0s 6ms/step - loss: 1.2139 - accuracy: 0.4927 - val_loss: 1.2838 - val_accuracy: 0.4443\n",
            "Epoch 11/100\n",
            "29/29 [==============================] - 0s 7ms/step - loss: 1.1854 - accuracy: 0.5137 - val_loss: 1.2698 - val_accuracy: 0.4570\n",
            "Epoch 12/100\n",
            "29/29 [==============================] - 0s 7ms/step - loss: 1.1556 - accuracy: 0.5391 - val_loss: 1.2559 - val_accuracy: 0.4630\n",
            "Epoch 13/100\n",
            "29/29 [==============================] - 0s 7ms/step - loss: 1.1248 - accuracy: 0.6213 - val_loss: 1.2420 - val_accuracy: 0.4673\n",
            "Epoch 14/100\n",
            "29/29 [==============================] - 0s 7ms/step - loss: 1.0933 - accuracy: 0.7234 - val_loss: 1.2279 - val_accuracy: 0.4738\n",
            "Epoch 15/100\n",
            "29/29 [==============================] - 0s 7ms/step - loss: 1.0612 - accuracy: 0.7451 - val_loss: 1.2145 - val_accuracy: 0.4794\n",
            "Epoch 16/100\n",
            "29/29 [==============================] - 0s 8ms/step - loss: 1.0290 - accuracy: 0.7580 - val_loss: 1.2009 - val_accuracy: 0.4836\n",
            "Epoch 17/100\n",
            "29/29 [==============================] - 0s 7ms/step - loss: 0.9967 - accuracy: 0.7619 - val_loss: 1.1879 - val_accuracy: 0.4864\n",
            "Epoch 18/100\n",
            "29/29 [==============================] - 0s 7ms/step - loss: 0.9645 - accuracy: 0.7658 - val_loss: 1.1756 - val_accuracy: 0.4906\n",
            "Epoch 19/100\n",
            "29/29 [==============================] - 0s 7ms/step - loss: 0.9324 - accuracy: 0.7684 - val_loss: 1.1643 - val_accuracy: 0.4939\n",
            "Epoch 20/100\n",
            "29/29 [==============================] - 0s 6ms/step - loss: 0.9008 - accuracy: 0.7734 - val_loss: 1.1526 - val_accuracy: 0.5009\n",
            "Epoch 21/100\n",
            "29/29 [==============================] - 0s 10ms/step - loss: 0.8696 - accuracy: 0.7748 - val_loss: 1.1415 - val_accuracy: 0.5023\n",
            "Epoch 22/100\n",
            "29/29 [==============================] - 0s 10ms/step - loss: 0.8390 - accuracy: 0.7776 - val_loss: 1.1319 - val_accuracy: 0.5014\n",
            "Epoch 23/100\n",
            "29/29 [==============================] - 0s 9ms/step - loss: 0.8090 - accuracy: 0.7935 - val_loss: 1.1225 - val_accuracy: 0.5019\n",
            "Epoch 24/100\n",
            "29/29 [==============================] - 0s 9ms/step - loss: 0.7797 - accuracy: 0.8286 - val_loss: 1.1126 - val_accuracy: 0.5014\n",
            "Epoch 25/100\n",
            "29/29 [==============================] - 0s 10ms/step - loss: 0.7511 - accuracy: 0.8728 - val_loss: 1.1054 - val_accuracy: 0.5051\n",
            "Epoch 26/100\n",
            "29/29 [==============================] - 0s 10ms/step - loss: 0.7234 - accuracy: 0.9650 - val_loss: 1.0970 - val_accuracy: 0.5042\n",
            "Epoch 27/100\n",
            "29/29 [==============================] - 0s 9ms/step - loss: 0.6963 - accuracy: 0.9599 - val_loss: 1.0894 - val_accuracy: 0.5084\n",
            "Epoch 28/100\n",
            "29/29 [==============================] - 0s 9ms/step - loss: 0.6702 - accuracy: 0.9826 - val_loss: 1.0839 - val_accuracy: 0.5084\n",
            "Epoch 29/100\n",
            "29/29 [==============================] - 0s 12ms/step - loss: 0.6447 - accuracy: 0.9827 - val_loss: 1.0764 - val_accuracy: 0.5080\n",
            "Epoch 30/100\n",
            "29/29 [==============================] - 0s 11ms/step - loss: 0.6202 - accuracy: 0.9837 - val_loss: 1.0709 - val_accuracy: 0.5065\n",
            "Epoch 31/100\n",
            "29/29 [==============================] - 0s 9ms/step - loss: 0.5964 - accuracy: 0.9853 - val_loss: 1.0657 - val_accuracy: 0.5070\n",
            "Epoch 32/100\n",
            "29/29 [==============================] - 0s 7ms/step - loss: 0.5735 - accuracy: 0.9867 - val_loss: 1.0609 - val_accuracy: 0.5065\n",
            "Epoch 33/100\n",
            "29/29 [==============================] - 0s 7ms/step - loss: 0.5515 - accuracy: 0.9867 - val_loss: 1.0563 - val_accuracy: 0.5065\n",
            "Epoch 34/100\n",
            "29/29 [==============================] - 0s 7ms/step - loss: 0.5303 - accuracy: 0.9882 - val_loss: 1.0526 - val_accuracy: 0.5065\n",
            "Epoch 35/100\n",
            "29/29 [==============================] - 0s 6ms/step - loss: 0.5099 - accuracy: 0.9892 - val_loss: 1.0480 - val_accuracy: 0.5056\n",
            "Epoch 36/100\n",
            "29/29 [==============================] - 0s 7ms/step - loss: 0.4902 - accuracy: 0.9895 - val_loss: 1.0461 - val_accuracy: 0.5061\n",
            "Epoch 37/100\n",
            "29/29 [==============================] - 0s 7ms/step - loss: 0.4714 - accuracy: 0.9899 - val_loss: 1.0427 - val_accuracy: 0.5056\n",
            "Epoch 38/100\n",
            "29/29 [==============================] - 0s 7ms/step - loss: 0.4531 - accuracy: 0.9902 - val_loss: 1.0404 - val_accuracy: 0.5061\n",
            "Epoch 39/100\n",
            "29/29 [==============================] - 0s 6ms/step - loss: 0.4357 - accuracy: 0.9906 - val_loss: 1.0376 - val_accuracy: 0.5051\n",
            "Epoch 40/100\n",
            "29/29 [==============================] - 0s 7ms/step - loss: 0.4190 - accuracy: 0.9909 - val_loss: 1.0353 - val_accuracy: 0.5056\n",
            "Epoch 41/100\n",
            "29/29 [==============================] - 0s 8ms/step - loss: 0.4029 - accuracy: 0.9910 - val_loss: 1.0350 - val_accuracy: 0.5051\n",
            "Epoch 42/100\n",
            "29/29 [==============================] - 0s 7ms/step - loss: 0.3875 - accuracy: 0.9913 - val_loss: 1.0326 - val_accuracy: 0.5047\n",
            "Epoch 43/100\n",
            "29/29 [==============================] - 0s 7ms/step - loss: 0.3728 - accuracy: 0.9913 - val_loss: 1.0307 - val_accuracy: 0.5047\n",
            "Epoch 44/100\n",
            "29/29 [==============================] - 0s 7ms/step - loss: 0.3586 - accuracy: 0.9916 - val_loss: 1.0299 - val_accuracy: 0.5042\n",
            "Epoch 45/100\n",
            "29/29 [==============================] - 0s 7ms/step - loss: 0.3450 - accuracy: 0.9916 - val_loss: 1.0301 - val_accuracy: 0.5047\n",
            "Model: \"sequential\"\n",
            "_________________________________________________________________\n",
            " Layer (type)                Output Shape              Param #   \n",
            "=================================================================\n",
            " embedding (Embedding)       (None, 5, 10)             121210    \n",
            "                                                                 \n",
            " lambda (Lambda)             (None, 10)                0         \n",
            "                                                                 \n",
            " dense (Dense)               (None, 4)                 44        \n",
            "                                                                 \n",
            "=================================================================\n",
            "Total params: 121,254\n",
            "Trainable params: 121,254\n",
            "Non-trainable params: 0\n",
            "_________________________________________________________________\n",
            "CPU times: user 12 s, sys: 706 ms, total: 12.7 s\n",
            "Wall time: 21.9 s\n"
          ]
        },
        {
          "output_type": "display_data",
          "data": {
            "text/plain": [
              "<Figure size 640x480 with 1 Axes>"
            ],
            "image/png": "[encoded data removed]"
          },
          "metadata": {}
        },
        {
          "output_type": "display_data",
          "data": {
            "text/plain": [
              "<Figure size 640x480 with 1 Axes>"
            ],
            "image/png": "[encoded data removed]"
          },
          "metadata": {}
        }
      ],
      "source": [
        "%%time\n",
        "\n",
        "tf.random.set_seed(33)\n",
        "\n",
        "MODEL_DIR = os.path.join(LOGDIR, 'dnn')\n",
        "shutil.rmtree(MODEL_DIR, ignore_errors=True)\n",
        "\n",
        "BATCH_SIZE = 300\n",
        "EPOCHS = 100\n",
        "EMBED_DIM = 10\n",
        "PATIENCE = 0\n",
        "\n",
        "dnn_model = build_dnn_model(embed_dim=EMBED_DIM)\n",
        "\n",
        "dnn_history = dnn_model.fit(\n",
        "    X_train, Y_train,\n",
        "    epochs=EPOCHS,\n",
        "    batch_size=BATCH_SIZE,\n",
        "    validation_data=(X_valid, Y_valid),\n",
        "    callbacks=[EarlyStopping(patience=PATIENCE), TensorBoard(MODEL_DIR)],\n",
        ")\n",
        "\n",
        "pd.DataFrame(dnn_history.history)[['loss', 'val_loss']].plot()\n",
        "pd.DataFrame(dnn_history.history)[['accuracy', 'val_accuracy']].plot()\n",
        "\n",
        "dnn_model.summary()"
      ]
    },
    {
      "cell_type": "markdown",
      "source": [
        "Next we need to save the model and test it"
      ],
      "metadata": {
        "id": "QEpRSDLYVXSk"
      }
    },
    {
      "cell_type": "code",
      "source": [
        "dnn_model.save('Arj_Thing_Model_1.h5')"
      ],
      "metadata": {
        "id": "kvRlZMenzAE8"
      },
      "execution_count": 30,
      "outputs": []
    },
    {
      "cell_type": "code",
      "source": [
        "import keras"
      ],
      "metadata": {
        "id": "Kv07LdkV0IT_"
      },
      "execution_count": 31,
      "outputs": []
    },
    {
      "cell_type": "code",
      "source": [
        "\n",
        "# Load the saved model\n",
        "loaded_model = keras.models.load_model('Arj_Thing_Model_1.h5')\n",
        "\n"
      ],
      "metadata": {
        "id": "iPAf--CVzury"
      },
      "execution_count": 32,
      "outputs": []
    },
    {
      "cell_type": "code",
      "source": [
        "Arj_test_1 = create_sequences([\"Taylor Swift\", \"Selena Gomez\", \"Ryan Giggs\", \"bobcat\", \"rat\", \"clock\", \"New York\"])\n"
      ],
      "metadata": {
        "id": "O-7Q3dqv1SPZ"
      },
      "execution_count": 37,
      "outputs": []
    },
    {
      "cell_type": "code",
      "source": [
        "# Use the loaded model for prediction\n",
        "predictions = loaded_model.predict(Arj_test_1)"
      ],
      "metadata": {
        "colab": {
          "base_uri": "https://localhost:8080/"
        },
        "id": "2MH6s_DyzuDy",
        "outputId": "9229391b-3b1a-4fc0-e8e6-99ce1986b297"
      },
      "execution_count": 38,
      "outputs": [
        {
          "output_type": "stream",
          "name": "stdout",
          "text": [
            "1/1 [==============================] - 0s 27ms/step\n"
          ]
        }
      ]
    },
    {
      "cell_type": "code",
      "source": [
        "print(predictions)"
      ],
      "metadata": {
        "colab": {
          "base_uri": "https://localhost:8080/"
        },
        "id": "DjBPKrMJ1prw",
        "outputId": "b6b6ab33-5b04-4824-94c4-de3392b9d37e"
      },
      "execution_count": 39,
      "outputs": [
        {
          "output_type": "stream",
          "name": "stdout",
          "text": [
            "[[0.67377174 0.05893223 0.12603009 0.14126593]\n",
            " [0.36739177 0.14439593 0.1723717  0.3158405 ]\n",
            " [0.12645058 0.29917586 0.15793228 0.41644126]\n",
            " [0.12844868 0.2503031  0.46262312 0.1586251 ]\n",
            " [0.08634794 0.1926639  0.6197177  0.10127044]\n",
            " [0.05235775 0.11887413 0.04492586 0.78384227]\n",
            " [0.01048919 0.84579736 0.04453935 0.09917404]]\n"
          ]
        }
      ]
    }
  ],
  "metadata": {
    "environment": {
      "name": "tf2-gpu.2-1.m68",
      "type": "gcloud",
      "uri": "gcr.io/deeplearning-platform-release/tf2-gpu.2-1:m68"
    },
    "kernelspec": {
      "display_name": "Python 3",
      "language": "python",
      "name": "python3"
    },
    "language_info": {
      "codemirror_mode": {
        "name": "ipython",
        "version": 3
      },
      "file_extension": ".py",
      "mimetype": "text/x-python",
      "name": "python",
      "nbconvert_exporter": "python",
      "pygments_lexer": "ipython3",
      "version": "3.7.10"
    },
    "colab": {
      "provenance": [],
      "include_colab_link": true
    }
  },
  "nbformat": 4,
  "nbformat_minor": 0
}